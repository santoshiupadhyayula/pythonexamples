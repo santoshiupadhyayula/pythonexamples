{
 "cells": [
  {
   "cell_type": "code",
   "execution_count": 5,
   "metadata": {},
   "outputs": [
    {
     "name": "stdout",
     "output_type": "stream",
     "text": [
      "Enter any number5\n",
      "5 is odd\n"
     ]
    }
   ],
   "source": [
    "def isEven(n):\n",
    "        if n%2==0:\n",
    "            print(n,\"is even\")\n",
    "        else:\n",
    "            print(n, \"is odd\")\n",
    "a=int(input(\"Enter any number\"))\n",
    "isEven(a)"
   ]
  },
  {
   "cell_type": "code",
   "execution_count": 1,
   "metadata": {},
   "outputs": [
    {
     "name": "stdout",
     "output_type": "stream",
     "text": [
      "16\n"
     ]
    }
   ],
   "source": [
    "def addition(a,b):\n",
    "    print(a+b)\n",
    "addition(8,8)"
   ]
  },
  {
   "cell_type": "code",
   "execution_count": 6,
   "metadata": {},
   "outputs": [
    {
     "name": "stdout",
     "output_type": "stream",
     "text": [
      "Enter any range10\n",
      "1 is odd\n",
      "2 is even\n",
      "3 is odd\n",
      "4 is even\n",
      "5 is odd\n",
      "6 is even\n",
      "7 is odd\n",
      "8 is even\n",
      "9 is odd\n",
      "10 is even\n"
     ]
    }
   ],
   "source": [
    "def isEven(n):\n",
    "    for i in range(1,n+1):\n",
    "        if i%2==0:\n",
    "            print(i,\"is even\")\n",
    "        else:\n",
    "            print(i,\"is odd\")\n",
    "a=int(input(\"Enter any range\"))\n",
    "isEven(a)"
   ]
  },
  {
   "cell_type": "code",
   "execution_count": 8,
   "metadata": {},
   "outputs": [
    {
     "name": "stdout",
     "output_type": "stream",
     "text": [
      "Enter any range10\n",
      "5.5 is the average of given observations\n"
     ]
    }
   ],
   "source": [
    "def avg(n):\n",
    "    sum=0\n",
    "    for i in range(1,n+1):\n",
    "        sum=sum+i\n",
    "    avg=sum/n\n",
    "    print(avg,\"is the average of given observations\")\n",
    "a=int(input(\"Enter any range\"))\n",
    "avg(a)"
   ]
  },
  {
   "cell_type": "code",
   "execution_count": 9,
   "metadata": {},
   "outputs": [
    {
     "name": "stdout",
     "output_type": "stream",
     "text": [
      "Enter the 1st value3\n",
      "Enter the 2nd value4\n",
      "49\n"
     ]
    }
   ],
   "source": [
    "def sqr(a,b):\n",
    "    n=(a*a)+(b*b)+(2*a*b)\n",
    "    print(n)\n",
    "c=int(input(\"Enter the 1st value\"))\n",
    "d=int(input(\"Enter the 2nd value\"))\n",
    "sqr(c,d)"
   ]
  },
  {
   "cell_type": "code",
   "execution_count": 15,
   "metadata": {},
   "outputs": [
    {
     "name": "stdout",
     "output_type": "stream",
     "text": [
      "Enter any range10\n",
      "2 is prime\n",
      "3 is prime\n",
      "5 is prime\n",
      "7 is prime\n"
     ]
    }
   ],
   "source": [
    "def isprime(n):\n",
    "    for i in range(2,n+1):\n",
    "        status=0\n",
    "        for j in range(2,i):\n",
    "            if i%j==0:\n",
    "                status=1\n",
    "        if status==0:\n",
    "            print(i,\"is prime\")\n",
    "a=int(input(\"Enter any range\"))\n",
    "isprime(a)\n",
    "            "
   ]
  },
  {
   "cell_type": "code",
   "execution_count": 1,
   "metadata": {},
   "outputs": [
    {
     "name": "stdout",
     "output_type": "stream",
     "text": [
      "Enter any number5\n"
     ]
    }
   ],
   "source": [
    "def isprime(n):\n",
    "    status=0\n",
    "    for i in range(2,n//2):\n",
    "        if n%i==0:\n",
    "            status=1\n",
    "            print(n,\"is not prime\")\n",
    "        else:\n",
    "            print(n,\"is prime\")\n",
    "a=int(input(\"Enter any number\"))\n",
    "isprime(a)"
   ]
  },
  {
   "cell_type": "code",
   "execution_count": 3,
   "metadata": {},
   "outputs": [
    {
     "name": "stdout",
     "output_type": "stream",
     "text": [
      "Enter a number5\n",
      "Factorial is 120\n"
     ]
    }
   ],
   "source": [
    "def factorial(n):\n",
    "    factorial=1\n",
    "    for i in range(1,n+1):\n",
    "        factorial=factorial*i\n",
    "    print(\"Factorial is\",factorial)\n",
    "a=int(input(\"Enter a number\"))\n",
    "factorial(a)"
   ]
  },
  {
   "cell_type": "code",
   "execution_count": 5,
   "metadata": {},
   "outputs": [
    {
     "name": "stdout",
     "output_type": "stream",
     "text": [
      "Enter a number4\n"
     ]
    },
    {
     "data": {
      "text/plain": [
       "24"
      ]
     },
     "execution_count": 5,
     "metadata": {},
     "output_type": "execute_result"
    }
   ],
   "source": [
    "def factorial(n):\n",
    "    if n==1:\n",
    "        return 1\n",
    "    else:\n",
    "        return n*factorial(n-1)\n",
    "a=int(input(\"Enter a number\"))\n",
    "factorial(a)"
   ]
  },
  {
   "cell_type": "code",
   "execution_count": null,
   "metadata": {},
   "outputs": [],
   "source": []
  }
 ],
 "metadata": {
  "kernelspec": {
   "display_name": "Python 3",
   "language": "python",
   "name": "python3"
  },
  "language_info": {
   "codemirror_mode": {
    "name": "ipython",
    "version": 3
   },
   "file_extension": ".py",
   "mimetype": "text/x-python",
   "name": "python",
   "nbconvert_exporter": "python",
   "pygments_lexer": "ipython3",
   "version": "3.7.3"
  }
 },
 "nbformat": 4,
 "nbformat_minor": 2
}
